{
 "cells": [
  {
   "cell_type": "code",
   "execution_count": 119,
   "metadata": {},
   "outputs": [],
   "source": [
    "import re\n",
    "\n",
    "class TiendaOnline:\n",
    "    def __init__(self):\n",
    "        self.inventario = []       \n",
    "        self.clientes = {}         \n",
    "        self.ventas_totales = 0.0  \n",
    "\n",
    "# Método 1. Creo el método para agregar/actualizar cantidad de productos:\n",
    "\n",
    "    def agregar_producto(self, nombre, precio, cantidad):\n",
    "        for producto in self.inventario:\n",
    "            if producto[\"nombre\"] == nombre:\n",
    "                producto[\"cantidad\"] += cantidad\n",
    "                break\n",
    "        else:  \n",
    "            producto = {\"nombre\": nombre, \"precio\": precio, \"cantidad\": cantidad}\n",
    "            self.inventario.append(producto)\n",
    "\n",
    "# Método 2. Creo el método para visualizar el inventario:\n",
    "\n",
    "    def visualizar_inventario(self):\n",
    "        if not self.inventario:\n",
    "            print(\"El inventario está vacío aún\")\n",
    "        else:\n",
    "            print(\"Inventario:\")\n",
    "            for producto in self.inventario:\n",
    "                print(producto)\n",
    "\n",
    "# Método 3. Creo el método para buscar producto en el inventario:\n",
    "    \n",
    "    def buscar_producto(self, nombre):\n",
    "        encontrado = False\n",
    "        for producto in self.inventario:\n",
    "            if producto[\"nombre\"] == nombre:\n",
    "                print(\"Estos son los detalles del producto:\")\n",
    "                print(f'Nombre: {producto[\"nombre\"]}; Precio: {producto[\"precio\"]}; Cantidad: {producto[\"cantidad\"]}')\n",
    "                encontrado = True\n",
    "                break\n",
    "    \n",
    "        if not encontrado:\n",
    "            print(\"Lo sentimos, el producto que buscas no está en el inventario\")\n",
    "\n",
    "# Método 4. Creo el método para actualizar el stock:\n",
    "                \n",
    "    def actualizar_stock(self, nombre, cantidad):\n",
    "        for producto in self.inventario:\n",
    "            if producto[\"nombre\"] == nombre:\n",
    "                producto[\"cantidad\"] += cantidad\n",
    "                print(f\"Hemos actualizado el stock de {nombre}, hemos añadido {cantidad} unidades\")\n",
    "                break\n",
    "        else:\n",
    "            print(f\"El producto {nombre} no está en el inventario\")   \n",
    "\n",
    "# Método 5. Creo el método para eliminar productos del inventario:\n",
    "            \n",
    "    def eliminar_producto(self, nombre):\n",
    "        for producto in self.inventario:\n",
    "            if producto[\"nombre\"] == nombre:\n",
    "                self.inventario.remove(producto)\n",
    "                print(f\"el producto {nombre} se ha eliminado correctamente\")\n",
    "                break\n",
    "        else:\n",
    "            print(\"el producto que has indicado no se puede borrar porquen no se encuentra en el inventario\")\n",
    "\n",
    "# Método 6. Creo el método para calcular el valor del inventario:\n",
    "            \n",
    "    def calcular_valor_inventario(self):\n",
    "        for producto in self. inventario:\n",
    "            valor_total = sum (producto[\"precio\"] * producto[\"cantidad\"] for producto in self.inventario)\n",
    "            valor_total = round(valor_total, 2)  \n",
    "        print(f\"El valor total del inventario es de {valor_total} euros\")\n",
    "\n",
    "# Método 7. Creo un método para buscar productos en el inventario que coincidan con un patrón:\n",
    "                     \n",
    "    def buscar_producto_regex(self, patron):\n",
    "        productos_encontrados = []\n",
    "        for producto in self.inventario:\n",
    "            if re.search(patron, producto[\"nombre\"], re.IGNORECASE):\n",
    "                productos_encontrados.append(producto)\n",
    "\n",
    "        if productos_encontrados:\n",
    "            print(\"Productos encontrados:\")\n",
    "            for producto in productos_encontrados:\n",
    "                print(f'Nombre: {producto[\"nombre\"]}; Precio: {producto[\"precio\"]}; Cantidad: {producto[\"cantidad\"]}')\n",
    "        else:\n",
    "            print(\"No se encontraron productos que coincidan con el patrón de búsqueda\")\n",
    "\n",
    "    \n",
    "# Método 8. Creo un método para realizar compra seleccionando productos del inventario:\n",
    "\n",
    "    def realizar_compra(self):\n",
    "        carro_compra = []\n",
    "        while True:\n",
    "            print(\"El inventario actual es el siguiente:\")\n",
    "            for producto in self.inventario:\n",
    "                print(f'Nombre:{producto[\"nombre\"]}; Precio: {producto[\"precio\"]}; Cantidad: {producto[\"cantidad\"]}')\n",
    "            seleccion_producto = input(\"Por favor, seleccione el producto que desea añadir al carro de la compra. Si no desea comprar más indique fin\")\n",
    "            if seleccion_producto == \"fin\":\n",
    "                break\n",
    "            encontrado = False\n",
    "            for prod in self.inventario:\n",
    "                if prod[\"nombre\"] == seleccion_producto:\n",
    "                    encontrado = True\n",
    "                    seleccion_cantidad = float(input(\"Por favor, seleccione la cantidad\"))\n",
    "                    if seleccion_cantidad <= prod[\"cantidad\"]:\n",
    "                        carro_compra.append({\"nombre\": seleccion_producto, \"precio\": prod[\"precio\"], \"cantidad\": seleccion_cantidad})\n",
    "                        prod[\"cantidad\"] -= seleccion_cantidad\n",
    "                        print(f\"{seleccion_cantidad} unidades de {seleccion_producto} se han añadido a su carro de la compra correctamente\")\n",
    "                    else:\n",
    "                        print(\"Lo sentimos, no quedan suficientes unidades de ese producto en stock\")\n",
    "            if not encontrado:\n",
    "                    print(f\"Disculpa, {seleccion_producto} no se econtró en el inventario\")\n",
    "        factura = 0.0\n",
    "        for producto in carro_compra:\n",
    "            factura += producto[\"precio\"] * producto[\"cantidad\"]\n",
    "            factura = round(factura, 2) \n",
    "            print(f\"el total de su compra son {factura} euros\")\n",
    "            return carro_compra\n",
    "\n",
    "\n",
    "# Método 9. Creo un método para procesar pago:\n",
    "        \n",
    "    def procesar_pago(self):\n",
    "        try:\n",
    "            factura = float(input(\"Por favor, indique el precio total de la compra\"))\n",
    "            pago = float(input(\"A continuación, indique la cantidad que entrega\"))        \n",
    "            if pago < factura:\n",
    "                print(\"La cantidad introducida es insuficiente\")\n",
    "                return\n",
    "            cambio = pago - factura\n",
    "            cambio_redondeo = round(cambio, 2)\n",
    "            print(f\"pago efectuado correctamente. Entregado:{pago}€. Cambio:{cambio_redondeo}€\")            \n",
    "        except ValueError:\n",
    "            print(\"El valor que has introducido es incorrecto. Por favor introduce un valor válido\")\n",
    "\n",
    "# Método 10. Creo un método para agregar clientes:\n",
    "\n",
    "    def agregar_cliente(self, nombre, email):\n",
    "        if nombre in self.clientes:\n",
    "            print(\"Ya existe un cliente registrado con este nombre\")\n",
    "        else:\n",
    "            cliente = {\"nombre\": nombre, \"email\": email, \"compras_cliente\": []}\n",
    "            self.clientes[nombre] = cliente\n",
    "            print(\"El cliente ha sido registrado correctamente.\")\n",
    "\n",
    "\n",
    "   # Método 11. Creo un método para ver clientes:\n",
    "            \n",
    "    def ver_clientes(self):\n",
    "        if not self.clientes:\n",
    "            print(\"No hay clientes registrados aún\")\n",
    "        else:\n",
    "            print(\"Clientes:\")\n",
    "            for cliente, detalles in self.clientes.items():\n",
    "                print(f'Nombre: {detalles[\"nombre\"]}; Correo electrónico: {detalles[\"email\"]}')\n",
    "  \n",
    "    # Método 12. Creo un método para registrar compras:          \n",
    "                \n",
    "    # Método 13. Creo un método para registrar compras:\n",
    "                \n",
    "    # Método 14. Creo un método para registrar compras:\n",
    "                \n",
    "    "
   ]
  },
  {
   "cell_type": "code",
   "execution_count": 95,
   "metadata": {},
   "outputs": [
    {
     "name": "stdout",
     "output_type": "stream",
     "text": [
      "El cliente ha sido registrado correctamente.\n",
      "El cliente ha sido registrado correctamente.\n",
      "El cliente ha sido registrado correctamente.\n",
      "Clientes:\n",
      "Nombre: Paco Gonzalez; Correo electrónico: hola@una.es\n",
      "Nombre: Ana Perez; Correo electrónico: anabanana@email.es\n",
      "Nombre: Estrella Sanz; Correo electrónico: estrellalis@email.es\n"
     ]
    }
   ],
   "source": [
    "mi_tienda = TiendaOnline()\n",
    "\n",
    "mi_tienda.agregar_cliente(\"Paco Gonzalez\",\"hola@una.es\")\n",
    "mi_tienda.agregar_cliente(\"Ana Perez\",\"anabanana@email.es\")\n",
    "mi_tienda.agregar_cliente(\"Estrella Sanz\",\"estrellalis@email.es\")\n",
    "\n",
    "mi_tienda.ver_clientes()\n"
   ]
  },
  {
   "cell_type": "code",
   "execution_count": 102,
   "metadata": {},
   "outputs": [],
   "source": [
    "# creo una instancia:\n",
    "mi_tienda = TiendaOnline()\n",
    "\n",
    "# agrego productos a mi_tienda:\n",
    "producto1 = {\"nombre\": \"champu\", \"precio\": 15.9, \"cantidad\": 6.0}\n",
    "producto2 = {\"nombre\": \"gel\", \"precio\": 12.9, \"cantidad\": 26.0}\n",
    "producto3 = {\"nombre\": \"acondicionador\", \"precio\": 29.3, \"cantidad\": 14.0}\n",
    "producto4 = {\"nombre\": \"gel\", \"precio\": 12.9, \"cantidad\": 5.0}\n",
    "producto5 = {\"nombre\": \"pintalabios\", \"precio\": 20.2, \"cantidad\": 7.0}\n",
    "producto6 = {\"nombre\": \"jabon\", \"precio\": 3.5, \"cantidad\": 47.0}\n",
    "\n",
    "mi_tienda.agregar_producto(**producto1)\n",
    "mi_tienda.agregar_producto(**producto2)\n",
    "mi_tienda.agregar_producto(**producto3)\n",
    "mi_tienda.agregar_producto(**producto4)\n",
    "mi_tienda.agregar_producto(**producto5)\n",
    "mi_tienda.agregar_producto(**producto6)\n"
   ]
  },
  {
   "cell_type": "code",
   "execution_count": 100,
   "metadata": {},
   "outputs": [
    {
     "name": "stdout",
     "output_type": "stream",
     "text": [
      "El inventario está vacío aún\n"
     ]
    }
   ],
   "source": [
    "# aplico el método para visualizar el inventario:\n",
    "mi_tienda.visualizar_inventario()\n"
   ]
  },
  {
   "cell_type": "code",
   "execution_count": 96,
   "metadata": {},
   "outputs": [
    {
     "name": "stdout",
     "output_type": "stream",
     "text": [
      "Clientes:\n",
      "Nombre: Paco Gonzalez; Correo electrónico: hola@una.es\n",
      "Nombre: Ana Perez; Correo electrónico: anabanana@email.es\n",
      "Nombre: Estrella Sanz; Correo electrónico: estrellalis@email.es\n"
     ]
    }
   ],
   "source": [
    "# aplico el método para visualizar los clientes registrados:\n",
    "mi_tienda.ver_clientes()"
   ]
  },
  {
   "cell_type": "code",
   "execution_count": 103,
   "metadata": {},
   "outputs": [
    {
     "name": "stdout",
     "output_type": "stream",
     "text": [
      "Estos son los detalles del producto:\n",
      "Nombre: gel; Precio: 12.9; Cantidad: 31.0\n",
      "Lo sentimos, el producto que buscas no está en el inventario\n"
     ]
    }
   ],
   "source": [
    "# aplico el método para buscar producto en el inventario:\n",
    "\n",
    "mi_tienda.buscar_producto(\"gel\")\n",
    "\n",
    "mi_tienda.buscar_producto(\"colorete\")"
   ]
  },
  {
   "cell_type": "code",
   "execution_count": 104,
   "metadata": {},
   "outputs": [
    {
     "name": "stdout",
     "output_type": "stream",
     "text": [
      "Hemos actualizado el stock de gel, hemos añadido 50.0 unidades\n",
      "el producto champu se ha eliminado correctamente\n"
     ]
    }
   ],
   "source": [
    "# aplico el método para actualizar stock de un producto en el inventario:\n",
    "mi_tienda.actualizar_stock(\"gel\", 50.0)\n",
    "\n",
    "# aplico el método para actualizar stock de un producto en el inventario:\n",
    "mi_tienda.eliminar_producto(\"champu\")"
   ]
  },
  {
   "cell_type": "code",
   "execution_count": 105,
   "metadata": {},
   "outputs": [
    {
     "name": "stdout",
     "output_type": "stream",
     "text": [
      "El valor total del inventario es de 1761.0 euros\n"
     ]
    }
   ],
   "source": [
    "# aplico el método para calcular el valor total del inventario:\n",
    "\n",
    "mi_tienda.calcular_valor_inventario()"
   ]
  },
  {
   "cell_type": "code",
   "execution_count": 106,
   "metadata": {},
   "outputs": [
    {
     "name": "stdout",
     "output_type": "stream",
     "text": [
      "Productos encontrados:\n",
      "Nombre: acondicionador; Precio: 29.3; Cantidad: 14.0\n"
     ]
    }
   ],
   "source": [
    "# aplico el método para buscar producto que cumpla un patrón regex:\n",
    "\n",
    "mi_tienda.buscar_producto_regex(r'\\b\\w*cion\\w*\\b')"
   ]
  },
  {
   "cell_type": "code",
   "execution_count": 24,
   "metadata": {},
   "outputs": [
    {
     "name": "stdout",
     "output_type": "stream",
     "text": [
      "El inventario actual es el siguiente:\n",
      "Nombre:gel; Precio: 12.9; Cantidad: 81.0\n",
      "Nombre:acondicionador; Precio: 29.3; Cantidad: 14.0\n",
      "Nombre:pintalabios; Precio: 20.2; Cantidad: 7.0\n",
      "Nombre:jabon; Precio: 3.5; Cantidad: 47.0\n",
      "2.0 unidades de gel se han añadido a su carro de la compra correctamente\n",
      "El inventario actual es el siguiente:\n",
      "Nombre:gel; Precio: 12.9; Cantidad: 79.0\n",
      "Nombre:acondicionador; Precio: 29.3; Cantidad: 14.0\n",
      "Nombre:pintalabios; Precio: 20.2; Cantidad: 7.0\n",
      "Nombre:jabon; Precio: 3.5; Cantidad: 47.0\n",
      "el total de su compra son 25.8 euros\n"
     ]
    },
    {
     "data": {
      "text/plain": [
       "[{'nombre': 'gel', 'precio': 12.9, 'cantidad': 2.0}]"
      ]
     },
     "execution_count": 24,
     "metadata": {},
     "output_type": "execute_result"
    }
   ],
   "source": [
    "mi_tienda.realizar_compra()"
   ]
  },
  {
   "cell_type": "code",
   "execution_count": 107,
   "metadata": {},
   "outputs": [
    {
     "name": "stdout",
     "output_type": "stream",
     "text": [
      "pago efectuado correctamente. Entregado:50.0€. Cambio:9.6€\n"
     ]
    }
   ],
   "source": [
    "# aplico el método para hacer compra:\n",
    "\n",
    "mi_tienda = TiendaOnline()\n",
    "\n",
    "mi_tienda.procesar_pago()"
   ]
  },
  {
   "cell_type": "code",
   "execution_count": 120,
   "metadata": {},
   "outputs": [
    {
     "name": "stdout",
     "output_type": "stream",
     "text": [
      "No se puede realizar la acción porque ese cliente no está registrado\n"
     ]
    }
   ],
   "source": [
    "mi_tienda.registrar_compra(\"Paco Gonzalez\", 40)"
   ]
  },
  {
   "cell_type": "code",
   "execution_count": null,
   "metadata": {},
   "outputs": [],
   "source": [
    "    def visualizar_clientes(self):\n",
    "        if not self.clientes:\n",
    "            print(\"El inventario está vacío aún\")\n",
    "        else:\n",
    "            print(\"Clientes:\")\n",
    "            for cliente in self.clientes:\n",
    "                print(cliente)\n",
    "\n",
    "\n",
    "#agrego clientes a mi tienda:\n",
    "Cliente1 = {\"nombre\": \"Maria Garcia Lopez\", \"email\": \"holamaria@email.com\"}\n",
    "Cliente2 = {\"nombre\": \"Pepe Perez Roca\", \"email\": \"pepeperez@email.com\"}\n",
    "Cliente3 = {\"nombre\": \"Pablo Rio Toro\", \"email\": \"pablocompra@email.com\"}\n",
    "Cliente4 = {\"nombre\": \"Ramon Gomez Juan\", \"email\": \"ramongj@email.com\"}\n",
    "\n",
    "mi_tienda.agregar_cliente(**Cliente1)\n",
    "mi_tienda.agregar_cliente(**Cliente2)\n",
    "mi_tienda.agregar_cliente(**Cliente3)\n",
    "mi_tienda.agregar_cliente(**Cliente4)\n"
   ]
  }
 ],
 "metadata": {
  "kernelspec": {
   "display_name": "base",
   "language": "python",
   "name": "python3"
  },
  "language_info": {
   "codemirror_mode": {
    "name": "ipython",
    "version": 3
   },
   "file_extension": ".py",
   "mimetype": "text/x-python",
   "name": "python",
   "nbconvert_exporter": "python",
   "pygments_lexer": "ipython3",
   "version": "3.9.7"
  }
 },
 "nbformat": 4,
 "nbformat_minor": 2
}
